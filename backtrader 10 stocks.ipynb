{
 "cells": [
  {
   "cell_type": "code",
   "execution_count": 25,
   "metadata": {},
   "outputs": [],
   "source": [
    "from __future__ import (absolute_import, division, print_function,\n",
    "                        unicode_literals)\n",
    "import datetime\n",
    "import backtrader as bt\n",
    "import pandas as pd\n",
    "import tushare as ts\n",
    "import copy\n",
    "import numpy as np\n",
    "import re"
   ]
  },
  {
   "cell_type": "code",
   "execution_count": 26,
   "metadata": {
    "tags": []
   },
   "outputs": [],
   "source": [
    "#股票池\n",
    "l=[\n",
    "'300014.SZ',\n",
    "'300015.SZ',\n",
    "'600150.SH',\n",
    "'600161.SH',\n",
    "'600900.SH',\n",
    "'600332.SH',\n",
    "'600010.SH',\n",
    "'600176.SH',\n",
    "'600848.SH',\n",
    "'600600.SH'\n",
    "]\n",
    "stk=pd.DataFrame(l,columns=['code'])\n",
    "\n",
    "global start,end,d1,d2\n",
    "start=datetime.datetime(2019,6,30)#设置开始\n",
    "end=datetime.datetime(2020,6,30)#设置结束\n",
    "d1=start.strftime('%Y%m%d')\n",
    "d2=end.strftime('%Y%m%d')"
   ]
  },
  {
   "cell_type": "code",
   "execution_count": 27,
   "metadata": {},
   "outputs": [],
   "source": [
    "class percent(bt.Sizer):\n",
    "    params = (\n",
    "    ('percents', 10),\n",
    "    ('retint', False),  # 返回整数\n",
    ")\n",
    " \n",
    "    def __init__(self):\n",
    "        pass\n",
    " \n",
    "    def _getsizing(self, comminfo, cash, data, isbuy):\n",
    "        position = self.broker.getposition(data)\n",
    "        if not position:\n",
    "            size = cash / data.close[0] * (self.params.percents / 100)\n",
    "        else:\n",
    "            size = position.size\n",
    " \n",
    "        if self.p.retint:\n",
    "            size = int(size)\n",
    " \n",
    "        return size"
   ]
  },
  {
   "cell_type": "code",
   "execution_count": 28,
   "metadata": {},
   "outputs": [],
   "source": [
    "class SmaStrategy(bt.Strategy):\n",
    "    # 可配置策略参数\n",
    "    params = dict(\n",
    "        period = 30,    # 均线周期\n",
    "        stake = 100,            # 单笔交易股票数目\n",
    "    )\n",
    "    def __init__(self):\n",
    "        self.inds = dict()\n",
    "        for i, d in enumerate(self.datas):\n",
    "            self.inds[d] = bt.ind.SMA(d.close, period=self.p.period)\n",
    "\n",
    "    def next(self):\n",
    "        for i, d in enumerate(self.datas):\n",
    "            pos = self.getposition(d)\n",
    "            if not len(pos):                               \n",
    "                if d.close[0] > self.inds[d][0]:             # 达到买入条件\n",
    "                    self.buy(data = d, size = self.p.stake)  \n",
    "            elif d.close[0] < self.inds[d][0]:               # 达到卖出条件\n",
    "                self.sell(data = d)                       "
   ]
  },
  {
   "cell_type": "code",
   "execution_count": 29,
   "metadata": {},
   "outputs": [],
   "source": [
    "cerebro = bt.Cerebro()  # 初始化cerebro\n",
    "\n",
    "################### 股票代码和回测时间 #####################\n",
    "\n",
    "def get_data(code,d1,d2):#此处时间应与下面回测期间一致\n",
    "    token ='d5771776cad2569e0b087f46614868b53072dad53b7f2faa981cc4a4'\n",
    "    pro = ts.pro_api(token)\n",
    "    df = pro.daily(ts_code=code, adj='qfq', start_date=d1, end_date=d2)\n",
    "    df.index=pd.to_datetime(df.trade_date)\n",
    "    df.sort_index(ascending=True,inplace=True)\n",
    "    df=df.rename(columns={'vol':'volume'})\n",
    "    df['openinterest']=0\n",
    "    df=df[['open','high','low','close','volume','openinterest']]\n",
    "    return df\n",
    "###########################################\n",
    "\n",
    "# 读入股票代码\n",
    "for i in range(len(stk['code'])):\n",
    "    code = stk['code'][stk.index[i]]#从股票池取出一只标的\n",
    "    #回测期间已全局定义\n",
    "    # 获取数据\n",
    "    dataframe=get_data(code,d1,d2)\n",
    "    # 加载数据\n",
    "    data = bt.feeds.PandasData(dataname=dataframe,fromdate=start,todate=end)\n",
    "    # 在Cerebro中添加股票数据\n",
    "    cerebro.adddata(data, name = code)\n",
    "    \n",
    "##################### 代码和时间加载完毕 ########################"
   ]
  },
  {
   "cell_type": "code",
   "execution_count": 30,
   "metadata": {},
   "outputs": [
    {
     "name": "stdout",
     "output_type": "stream",
     "text": [
      "回测期间：20190630:20200630\n",
      "初始资金: 100000.0\n",
      "总资金: 99760.82\n",
      "净收益: -239.18\n",
      "夏普比例: OrderedDict([('sharperatio', -0.9863968699947264)])\n",
      "回撤 AutoOrderedDict([('len', 84), ('drawdown', 3.672366635557356), ('moneydown', 3803.2524999999296), ('max', AutoOrderedDict([('len', 84), ('drawdown', 5.263309745810047), ('moneydown', 5450.897999999928)]))])\n"
     ]
    }
   ],
   "source": [
    "################## cerebro整体设置 #####################\n",
    "# 设置启动资金\n",
    "startcash=100000.0\n",
    "cerebro.broker.setcash(startcash)\n",
    "# 设置交易手续费为 0.05%\n",
    "cerebro.broker.setcommission(commission=0.0005)\n",
    "#设置订单份额\n",
    "cerebro.addsizer(percent)\n",
    "# 将交易策略加载到回测系统中\n",
    "cerebro.addstrategy(SmaStrategy)\n",
    "\n",
    "import backtrader.analyzers as btay#添加分析函数\n",
    "# 添加分析对象\n",
    "cerebro.addanalyzer(btay.SharpeRatio,_name=\"sharpe\")\n",
    "cerebro.addanalyzer(bt.analyzers.DrawDown, _name='DW')\n",
    "\n",
    "#打印\n",
    "print(f'回测期间：{d1}:{d2}\\n初始资金: {startcash}')\n",
    "# 运行回测\n",
    "results = cerebro.run()\n",
    "# 打印最后结果\n",
    "portvalue = cerebro.broker.getvalue()\n",
    "pnl = portvalue - startcash\n",
    "#打印结果\n",
    "print(f'总资金: {round(portvalue,2)}')\n",
    "print(f'净收益: {round(pnl,2)}')\n",
    "print(\"夏普比例:\", results[0].analyzers.sharpe.get_analysis())\n",
    "print(\"回撤\",results[0].analyzers.DW.get_analysis())"
   ]
  },
  {
   "cell_type": "code",
   "execution_count": null,
   "metadata": {},
   "outputs": [],
   "source": []
  },
  {
   "cell_type": "code",
   "execution_count": null,
   "metadata": {},
   "outputs": [],
   "source": []
  },
  {
   "cell_type": "code",
   "execution_count": null,
   "metadata": {},
   "outputs": [],
   "source": []
  },
  {
   "cell_type": "code",
   "execution_count": null,
   "metadata": {},
   "outputs": [],
   "source": []
  },
  {
   "cell_type": "code",
   "execution_count": null,
   "metadata": {},
   "outputs": [],
   "source": []
  },
  {
   "cell_type": "code",
   "execution_count": null,
   "metadata": {},
   "outputs": [],
   "source": []
  }
 ],
 "metadata": {
  "kernelspec": {
   "display_name": "Python 3 (ipykernel)",
   "language": "python",
   "name": "python3"
  },
  "language_info": {
   "codemirror_mode": {
    "name": "ipython",
    "version": 3
   },
   "file_extension": ".py",
   "mimetype": "text/x-python",
   "name": "python",
   "nbconvert_exporter": "python",
   "pygments_lexer": "ipython3",
   "version": "3.9.6"
  }
 },
 "nbformat": 4,
 "nbformat_minor": 4
}
